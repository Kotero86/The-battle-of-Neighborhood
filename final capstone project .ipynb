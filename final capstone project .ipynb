{
 "cells": [
  {
   "cell_type": "markdown",
   "metadata": {},
   "source": [
    " # Capstone Project: Chosing a location to build a Samsung supply chain in Abidjan"
   ]
  },
  {
   "cell_type": "markdown",
   "metadata": {},
   "source": [
    "# Introduction & Background\n",
    "\n",
    "The big firm Samsung plans to open some offices in Abidjan, Ivory Coast, in Africa. This project aim at winning the Ivorian phone market by building an effective supply chain in Abidjan which can reduce production cost, will supply the Ivorian phone Market and eventually the West African one with cheaper phones. One of the factors impacting the sales revenue is the location. That is why they contacted the best data scientist group from Ivory Coast called “The Pentagon” to carry out a study and pinpoint the best location. Abidjan is a city on the southern Atlantic coast of Ivory Coast, in West Africa. It is a capital of Ivory Coast and the major urban center with skyscrapers rising above the Ebrie Lagoon (Google). The country is well known for being a commercial hub for West Africa, with a GDP growth of 8% on average. Ivory Coast, West Africa do not have a firm making phone from West Africa. Therefore, winning Ivory Coast through Abidjan is winning the West African Market, and eventually Africa. The best location for the project Samsung involves leveraging the geographical data to solve that issue."
   ]
  },
  {
   "cell_type": "markdown",
   "metadata": {},
   "source": [
    "# Data & Methodology\n",
    "\n",
    "The required data was divided into three groups:\n",
    "\n",
    "Data for the list of neighborhoods in Abidjan-to be retrieved from Wikipedia.\n",
    "The latitudes and longitudes for the city and the neighborhoods.\n",
    "The data regarding the cities in Abidjan by Foursquare location data.\n",
    "This information will be used with the K-Clustering method to establish cluster, and eventually a map.The features to take in consideration to find the best location are:\n",
    "*the workforce availibily and labor skills generally located in the attractive industrial zone.\n",
    "*presence of Airport, Railway Stations and Port which will be display by the folium map.\n",
    "After analyzing ,this information, we will come up with the best location."
   ]
  },
  {
   "cell_type": "markdown",
   "metadata": {},
   "source": [
    "# Target Audience\n",
    "\n",
    "The firm Samsung "
   ]
  },
  {
   "cell_type": "code",
   "execution_count": 1,
   "metadata": {},
   "outputs": [
    {
     "name": "stdout",
     "output_type": "stream",
     "text": [
      "Matplotlib version:  3.1.3\n"
     ]
    }
   ],
   "source": [
    "# import libraries\n",
    "from bs4 import BeautifulSoup #use to scrape data online\n",
    "import requests #use to scrape data online\n",
    "import pandas as pd # read data into a dataframe format\n",
    "from geopy.geocoders import Nominatim # convert an address into latitude and longitude values\n",
    "import folium # map rendering library\n",
    "from sklearn.cluster import KMeans # import k-means from clustering stage\n",
    "import numpy as np\n",
    "import matplotlib.cm as cm  # Matplotlib and associated plotting modules\n",
    "import matplotlib.colors as colors\n",
    "# use the inline backend to generate the plots within the browser\n",
    "%matplotlib inline \n",
    "\n",
    "import matplotlib as mpl\n",
    "import matplotlib.pyplot as plt\n",
    "from matplotlib.font_manager import FontProperties\n",
    "\n",
    "mpl.style.use('ggplot') # optional: for ggplot-like style\n",
    "\n",
    "# check for latest version of Matplotlib\n",
    "print ('Matplotlib version: ', mpl.__version__) # >= 2.0.0"
   ]
  },
  {
   "cell_type": "markdown",
   "metadata": {},
   "source": [
    "# Get the coordinates of Abidjan city"
   ]
  },
  {
   "cell_type": "code",
   "execution_count": 2,
   "metadata": {},
   "outputs": [
    {
     "name": "stdout",
     "output_type": "stream",
     "text": [
      "The geograpical coordinates of Abidjan are 5.264928299999999, -3.9259475068297522.\n"
     ]
    }
   ],
   "source": [
    "# Grab the coordinates of Abidjan city\n",
    "\n",
    "user_agent= \"Abj_explorer\"\n",
    "address = 'ABIDJAN, ABJ'\n",
    "\n",
    "geolocator = Nominatim(user_agent=user_agent)\n",
    "location = geolocator.geocode(address)\n",
    "latitude_abj = location.latitude\n",
    "longitude_abj = location.longitude\n",
    "print('The geograpical coordinates of Abidjan are {}, {}.'.format(latitude_abj, longitude_abj))"
   ]
  },
  {
   "cell_type": "markdown",
   "metadata": {},
   "source": [
    "# Data import and processing"
   ]
  },
  {
   "cell_type": "markdown",
   "metadata": {},
   "source": [
    "Little processing was needed since the data were fetched online using the following website https://www.latlong.net and then organised in an excel spreadsheet"
   ]
  },
  {
   "cell_type": "code",
   "execution_count": 3,
   "metadata": {},
   "outputs": [
    {
     "data": {
      "text/html": [
       "<div>\n",
       "<style scoped>\n",
       "    .dataframe tbody tr th:only-of-type {\n",
       "        vertical-align: middle;\n",
       "    }\n",
       "\n",
       "    .dataframe tbody tr th {\n",
       "        vertical-align: top;\n",
       "    }\n",
       "\n",
       "    .dataframe thead th {\n",
       "        text-align: right;\n",
       "    }\n",
       "</style>\n",
       "<table border=\"1\" class=\"dataframe\">\n",
       "  <thead>\n",
       "    <tr style=\"text-align: right;\">\n",
       "      <th></th>\n",
       "      <th>States</th>\n",
       "      <th>Latitudes</th>\n",
       "      <th>Longitudes</th>\n",
       "    </tr>\n",
       "  </thead>\n",
       "  <tbody>\n",
       "    <tr>\n",
       "      <th>0</th>\n",
       "      <td>Abobo</td>\n",
       "      <td>5.4329</td>\n",
       "      <td>-4.0389</td>\n",
       "    </tr>\n",
       "    <tr>\n",
       "      <th>1</th>\n",
       "      <td>Adjame</td>\n",
       "      <td>5.3651</td>\n",
       "      <td>-4.0236</td>\n",
       "    </tr>\n",
       "    <tr>\n",
       "      <th>2</th>\n",
       "      <td>Yopougon</td>\n",
       "      <td>5.3177</td>\n",
       "      <td>-4.0900</td>\n",
       "    </tr>\n",
       "    <tr>\n",
       "      <th>3</th>\n",
       "      <td>Plateau</td>\n",
       "      <td>5.3233</td>\n",
       "      <td>-4.0236</td>\n",
       "    </tr>\n",
       "    <tr>\n",
       "      <th>4</th>\n",
       "      <td>Attecoube</td>\n",
       "      <td>5.3362</td>\n",
       "      <td>-4.0414</td>\n",
       "    </tr>\n",
       "    <tr>\n",
       "      <th>5</th>\n",
       "      <td>Cocody</td>\n",
       "      <td>5.3602</td>\n",
       "      <td>-3.9674</td>\n",
       "    </tr>\n",
       "    <tr>\n",
       "      <th>6</th>\n",
       "      <td>Koumassi</td>\n",
       "      <td>5.3030</td>\n",
       "      <td>-3.9419</td>\n",
       "    </tr>\n",
       "    <tr>\n",
       "      <th>7</th>\n",
       "      <td>Marcory</td>\n",
       "      <td>5.3027</td>\n",
       "      <td>-3.9827</td>\n",
       "    </tr>\n",
       "    <tr>\n",
       "      <th>8</th>\n",
       "      <td>Port-Bouet</td>\n",
       "      <td>5.2773</td>\n",
       "      <td>-3.8859</td>\n",
       "    </tr>\n",
       "    <tr>\n",
       "      <th>9</th>\n",
       "      <td>Treichville</td>\n",
       "      <td>5.2921</td>\n",
       "      <td>-4.0134</td>\n",
       "    </tr>\n",
       "    <tr>\n",
       "      <th>10</th>\n",
       "      <td>Ile Boulay</td>\n",
       "      <td>5.2811</td>\n",
       "      <td>-4.0951</td>\n",
       "    </tr>\n",
       "  </tbody>\n",
       "</table>\n",
       "</div>"
      ],
      "text/plain": [
       "         States  Latitudes  Longitudes\n",
       "0         Abobo     5.4329     -4.0389\n",
       "1        Adjame     5.3651     -4.0236\n",
       "2      Yopougon     5.3177     -4.0900\n",
       "3       Plateau     5.3233     -4.0236\n",
       "4     Attecoube     5.3362     -4.0414\n",
       "5        Cocody     5.3602     -3.9674\n",
       "6      Koumassi     5.3030     -3.9419\n",
       "7       Marcory     5.3027     -3.9827\n",
       "8    Port-Bouet     5.2773     -3.8859\n",
       "9   Treichville     5.2921     -4.0134\n",
       "10   Ile Boulay     5.2811     -4.0951"
      ]
     },
     "execution_count": 3,
     "metadata": {},
     "output_type": "execute_result"
    }
   ],
   "source": [
    "# import the data set\n",
    "import pandas as pd\n",
    "path = r'C:\\Users\\kotero\\Documents\\COURSERA\\Abidjan GPS cities Coordinates.xlsx'\n",
    "df = pd.read_excel(path)\n",
    "df"
   ]
  },
  {
   "cell_type": "code",
   "execution_count": 4,
   "metadata": {},
   "outputs": [
    {
     "data": {
      "text/html": [
       "<div>\n",
       "<style scoped>\n",
       "    .dataframe tbody tr th:only-of-type {\n",
       "        vertical-align: middle;\n",
       "    }\n",
       "\n",
       "    .dataframe tbody tr th {\n",
       "        vertical-align: top;\n",
       "    }\n",
       "\n",
       "    .dataframe thead th {\n",
       "        text-align: right;\n",
       "    }\n",
       "</style>\n",
       "<table border=\"1\" class=\"dataframe\">\n",
       "  <thead>\n",
       "    <tr style=\"text-align: right;\">\n",
       "      <th></th>\n",
       "      <th>States</th>\n",
       "      <th>Latitudes</th>\n",
       "      <th>Longitudes</th>\n",
       "    </tr>\n",
       "  </thead>\n",
       "  <tbody>\n",
       "    <tr>\n",
       "      <th>0</th>\n",
       "      <td>Abobo</td>\n",
       "      <td>5.4329</td>\n",
       "      <td>-4.0389</td>\n",
       "    </tr>\n",
       "    <tr>\n",
       "      <th>1</th>\n",
       "      <td>Adjame</td>\n",
       "      <td>5.3651</td>\n",
       "      <td>-4.0236</td>\n",
       "    </tr>\n",
       "    <tr>\n",
       "      <th>2</th>\n",
       "      <td>Yopougon</td>\n",
       "      <td>5.3177</td>\n",
       "      <td>-4.0900</td>\n",
       "    </tr>\n",
       "    <tr>\n",
       "      <th>3</th>\n",
       "      <td>Plateau</td>\n",
       "      <td>5.3233</td>\n",
       "      <td>-4.0236</td>\n",
       "    </tr>\n",
       "    <tr>\n",
       "      <th>4</th>\n",
       "      <td>Attecoube</td>\n",
       "      <td>5.3362</td>\n",
       "      <td>-4.0414</td>\n",
       "    </tr>\n",
       "    <tr>\n",
       "      <th>5</th>\n",
       "      <td>Cocody</td>\n",
       "      <td>5.3602</td>\n",
       "      <td>-3.9674</td>\n",
       "    </tr>\n",
       "    <tr>\n",
       "      <th>6</th>\n",
       "      <td>Koumassi</td>\n",
       "      <td>5.3030</td>\n",
       "      <td>-3.9419</td>\n",
       "    </tr>\n",
       "    <tr>\n",
       "      <th>7</th>\n",
       "      <td>Marcory</td>\n",
       "      <td>5.3027</td>\n",
       "      <td>-3.9827</td>\n",
       "    </tr>\n",
       "    <tr>\n",
       "      <th>8</th>\n",
       "      <td>Port-Bouet</td>\n",
       "      <td>5.2773</td>\n",
       "      <td>-3.8859</td>\n",
       "    </tr>\n",
       "    <tr>\n",
       "      <th>9</th>\n",
       "      <td>Treichville</td>\n",
       "      <td>5.2921</td>\n",
       "      <td>-4.0134</td>\n",
       "    </tr>\n",
       "    <tr>\n",
       "      <th>10</th>\n",
       "      <td>Ile Boulay</td>\n",
       "      <td>5.2811</td>\n",
       "      <td>-4.0951</td>\n",
       "    </tr>\n",
       "  </tbody>\n",
       "</table>\n",
       "</div>"
      ],
      "text/plain": [
       "         States  Latitudes  Longitudes\n",
       "0         Abobo     5.4329     -4.0389\n",
       "1        Adjame     5.3651     -4.0236\n",
       "2      Yopougon     5.3177     -4.0900\n",
       "3       Plateau     5.3233     -4.0236\n",
       "4     Attecoube     5.3362     -4.0414\n",
       "5        Cocody     5.3602     -3.9674\n",
       "6      Koumassi     5.3030     -3.9419\n",
       "7       Marcory     5.3027     -3.9827\n",
       "8    Port-Bouet     5.2773     -3.8859\n",
       "9   Treichville     5.2921     -4.0134\n",
       "10   Ile Boulay     5.2811     -4.0951"
      ]
     },
     "execution_count": 4,
     "metadata": {},
     "output_type": "execute_result"
    }
   ],
   "source": [
    "# drop all the rows with NaN\n",
    "df.dropna(how='all', axis=0, inplace=True)\n",
    "df"
   ]
  },
  {
   "cell_type": "code",
   "execution_count": 5,
   "metadata": {
    "scrolled": true
   },
   "outputs": [
    {
     "data": {
      "text/html": [
       "<div style=\"width:100%;\"><div style=\"position:relative;width:100%;height:0;padding-bottom:60%;\"><span style=\"color:#565656\">Make this Notebook Trusted to load map: File -> Trust Notebook</span><iframe src=\"about:blank\" style=\"position:absolute;width:100%;height:100%;left:0;top:0;border:none !important;\" data-html=PCFET0NUWVBFIGh0bWw+CjxoZWFkPiAgICAKICAgIDxtZXRhIGh0dHAtZXF1aXY9ImNvbnRlbnQtdHlwZSIgY29udGVudD0idGV4dC9odG1sOyBjaGFyc2V0PVVURi04IiAvPgogICAgCiAgICAgICAgPHNjcmlwdD4KICAgICAgICAgICAgTF9OT19UT1VDSCA9IGZhbHNlOwogICAgICAgICAgICBMX0RJU0FCTEVfM0QgPSBmYWxzZTsKICAgICAgICA8L3NjcmlwdD4KICAgIAogICAgPHNjcmlwdCBzcmM9Imh0dHBzOi8vY2RuLmpzZGVsaXZyLm5ldC9ucG0vbGVhZmxldEAxLjUuMS9kaXN0L2xlYWZsZXQuanMiPjwvc2NyaXB0PgogICAgPHNjcmlwdCBzcmM9Imh0dHBzOi8vY29kZS5qcXVlcnkuY29tL2pxdWVyeS0xLjEyLjQubWluLmpzIj48L3NjcmlwdD4KICAgIDxzY3JpcHQgc3JjPSJodHRwczovL21heGNkbi5ib290c3RyYXBjZG4uY29tL2Jvb3RzdHJhcC8zLjIuMC9qcy9ib290c3RyYXAubWluLmpzIj48L3NjcmlwdD4KICAgIDxzY3JpcHQgc3JjPSJodHRwczovL2NkbmpzLmNsb3VkZmxhcmUuY29tL2FqYXgvbGlicy9MZWFmbGV0LmF3ZXNvbWUtbWFya2Vycy8yLjAuMi9sZWFmbGV0LmF3ZXNvbWUtbWFya2Vycy5qcyI+PC9zY3JpcHQ+CiAgICA8bGluayByZWw9InN0eWxlc2hlZXQiIGhyZWY9Imh0dHBzOi8vY2RuLmpzZGVsaXZyLm5ldC9ucG0vbGVhZmxldEAxLjUuMS9kaXN0L2xlYWZsZXQuY3NzIi8+CiAgICA8bGluayByZWw9InN0eWxlc2hlZXQiIGhyZWY9Imh0dHBzOi8vbWF4Y2RuLmJvb3RzdHJhcGNkbi5jb20vYm9vdHN0cmFwLzMuMi4wL2Nzcy9ib290c3RyYXAubWluLmNzcyIvPgogICAgPGxpbmsgcmVsPSJzdHlsZXNoZWV0IiBocmVmPSJodHRwczovL21heGNkbi5ib290c3RyYXBjZG4uY29tL2Jvb3RzdHJhcC8zLjIuMC9jc3MvYm9vdHN0cmFwLXRoZW1lLm1pbi5jc3MiLz4KICAgIDxsaW5rIHJlbD0ic3R5bGVzaGVldCIgaHJlZj0iaHR0cHM6Ly9tYXhjZG4uYm9vdHN0cmFwY2RuLmNvbS9mb250LWF3ZXNvbWUvNC42LjMvY3NzL2ZvbnQtYXdlc29tZS5taW4uY3NzIi8+CiAgICA8bGluayByZWw9InN0eWxlc2hlZXQiIGhyZWY9Imh0dHBzOi8vY2RuanMuY2xvdWRmbGFyZS5jb20vYWpheC9saWJzL0xlYWZsZXQuYXdlc29tZS1tYXJrZXJzLzIuMC4yL2xlYWZsZXQuYXdlc29tZS1tYXJrZXJzLmNzcyIvPgogICAgPGxpbmsgcmVsPSJzdHlsZXNoZWV0IiBocmVmPSJodHRwczovL3Jhd2Nkbi5naXRoYWNrLmNvbS9weXRob24tdmlzdWFsaXphdGlvbi9mb2xpdW0vbWFzdGVyL2ZvbGl1bS90ZW1wbGF0ZXMvbGVhZmxldC5hd2Vzb21lLnJvdGF0ZS5jc3MiLz4KICAgIDxzdHlsZT5odG1sLCBib2R5IHt3aWR0aDogMTAwJTtoZWlnaHQ6IDEwMCU7bWFyZ2luOiAwO3BhZGRpbmc6IDA7fTwvc3R5bGU+CiAgICA8c3R5bGU+I21hcCB7cG9zaXRpb246YWJzb2x1dGU7dG9wOjA7Ym90dG9tOjA7cmlnaHQ6MDtsZWZ0OjA7fTwvc3R5bGU+CiAgICAKICAgICAgICAgICAgPG1ldGEgbmFtZT0idmlld3BvcnQiIGNvbnRlbnQ9IndpZHRoPWRldmljZS13aWR0aCwKICAgICAgICAgICAgICAgIGluaXRpYWwtc2NhbGU9MS4wLCBtYXhpbXVtLXNjYWxlPTEuMCwgdXNlci1zY2FsYWJsZT1ubyIgLz4KICAgICAgICAgICAgPHN0eWxlPgogICAgICAgICAgICAgICAgI21hcF9kOTE0NWI0MDM3OGM0YTY2ODBhMTczZDdmODc5MmMwMCB7CiAgICAgICAgICAgICAgICAgICAgcG9zaXRpb246IHJlbGF0aXZlOwogICAgICAgICAgICAgICAgICAgIHdpZHRoOiAxMDAuMCU7CiAgICAgICAgICAgICAgICAgICAgaGVpZ2h0OiAxMDAuMCU7CiAgICAgICAgICAgICAgICAgICAgbGVmdDogMC4wJTsKICAgICAgICAgICAgICAgICAgICB0b3A6IDAuMCU7CiAgICAgICAgICAgICAgICB9CiAgICAgICAgICAgIDwvc3R5bGU+CiAgICAgICAgCjwvaGVhZD4KPGJvZHk+ICAgIAogICAgCiAgICAgICAgICAgIDxkaXYgY2xhc3M9ImZvbGl1bS1tYXAiIGlkPSJtYXBfZDkxNDViNDAzNzhjNGE2NjgwYTE3M2Q3Zjg3OTJjMDAiID48L2Rpdj4KICAgICAgICAKPC9ib2R5Pgo8c2NyaXB0PiAgICAKICAgIAogICAgICAgICAgICB2YXIgbWFwX2Q5MTQ1YjQwMzc4YzRhNjY4MGExNzNkN2Y4NzkyYzAwID0gTC5tYXAoCiAgICAgICAgICAgICAgICAibWFwX2Q5MTQ1YjQwMzc4YzRhNjY4MGExNzNkN2Y4NzkyYzAwIiwKICAgICAgICAgICAgICAgIHsKICAgICAgICAgICAgICAgICAgICBjZW50ZXI6IFs1LjI2NDkyODI5OTk5OTk5OSwgLTMuOTI1OTQ3NTA2ODI5NzUyMl0sCiAgICAgICAgICAgICAgICAgICAgY3JzOiBMLkNSUy5FUFNHMzg1NywKICAgICAgICAgICAgICAgICAgICB6b29tOiAxMSwKICAgICAgICAgICAgICAgICAgICB6b29tQ29udHJvbDogdHJ1ZSwKICAgICAgICAgICAgICAgICAgICBwcmVmZXJDYW52YXM6IGZhbHNlLAogICAgICAgICAgICAgICAgfQogICAgICAgICAgICApOwoKICAgICAgICAgICAgCgogICAgICAgIAogICAgCiAgICAgICAgICAgIHZhciB0aWxlX2xheWVyXzRhMjMyNTExNDcwZjQzMDM4YTEyNTNmMTE4NWQ3ZjEyID0gTC50aWxlTGF5ZXIoCiAgICAgICAgICAgICAgICAiaHR0cHM6Ly97c30udGlsZS5vcGVuc3RyZWV0bWFwLm9yZy97en0ve3h9L3t5fS5wbmciLAogICAgICAgICAgICAgICAgeyJhdHRyaWJ1dGlvbiI6ICJEYXRhIGJ5IFx1MDAyNmNvcHk7IFx1MDAzY2EgaHJlZj1cImh0dHA6Ly9vcGVuc3RyZWV0bWFwLm9yZ1wiXHUwMDNlT3BlblN0cmVldE1hcFx1MDAzYy9hXHUwMDNlLCB1bmRlciBcdTAwM2NhIGhyZWY9XCJodHRwOi8vd3d3Lm9wZW5zdHJlZXRtYXAub3JnL2NvcHlyaWdodFwiXHUwMDNlT0RiTFx1MDAzYy9hXHUwMDNlLiIsICJkZXRlY3RSZXRpbmEiOiBmYWxzZSwgIm1heE5hdGl2ZVpvb20iOiAxOCwgIm1heFpvb20iOiAxOCwgIm1pblpvb20iOiAwLCAibm9XcmFwIjogZmFsc2UsICJvcGFjaXR5IjogMSwgInN1YmRvbWFpbnMiOiAiYWJjIiwgInRtcyI6IGZhbHNlfQogICAgICAgICAgICApLmFkZFRvKG1hcF9kOTE0NWI0MDM3OGM0YTY2ODBhMTczZDdmODc5MmMwMCk7CiAgICAgICAgCiAgICAKICAgICAgICAgICAgdmFyIGNpcmNsZV9tYXJrZXJfNDZhYjUzMDhlZDg3NDgyOGE5MjEyZTcyYjMzNzYyYTcgPSBMLmNpcmNsZU1hcmtlcigKICAgICAgICAgICAgICAgIFs1LjQzMjksIC00LjAzODldLAogICAgICAgICAgICAgICAgeyJidWJibGluZ01vdXNlRXZlbnRzIjogdHJ1ZSwgImNvbG9yIjogImJsdWUiLCAiZGFzaEFycmF5IjogbnVsbCwgImRhc2hPZmZzZXQiOiBudWxsLCAiZmlsbCI6IHRydWUsICJmaWxsQ29sb3IiOiAiIzMxODZjYyIsICJmaWxsT3BhY2l0eSI6IDAuNywgImZpbGxSdWxlIjogImV2ZW5vZGQiLCAibGluZUNhcCI6ICJyb3VuZCIsICJsaW5lSm9pbiI6ICJyb3VuZCIsICJvcGFjaXR5IjogMS4wLCAicmFkaXVzIjogNSwgInN0cm9rZSI6IHRydWUsICJ3ZWlnaHQiOiAzfQogICAgICAgICAgICApLmFkZFRvKG1hcF9kOTE0NWI0MDM3OGM0YTY2ODBhMTczZDdmODc5MmMwMCk7CiAgICAgICAgCiAgICAKICAgICAgICB2YXIgcG9wdXBfNjYxMTMzOWQ3MDhkNGUwNjk2Y2ZhMjQyZmEwYzE5MTAgPSBMLnBvcHVwKHsibWF4V2lkdGgiOiAiMTAwJSJ9KTsKCiAgICAgICAgCiAgICAgICAgICAgIHZhciBodG1sX2U3MmIxNjU2MjcwMTQ1M2Q5NmM1NDdlMGRlNzYyNmFiID0gJChgPGRpdiBpZD0iaHRtbF9lNzJiMTY1NjI3MDE0NTNkOTZjNTQ3ZTBkZTc2MjZhYiIgc3R5bGU9IndpZHRoOiAxMDAuMCU7IGhlaWdodDogMTAwLjAlOyI+QWJvYm88L2Rpdj5gKVswXTsKICAgICAgICAgICAgcG9wdXBfNjYxMTMzOWQ3MDhkNGUwNjk2Y2ZhMjQyZmEwYzE5MTAuc2V0Q29udGVudChodG1sX2U3MmIxNjU2MjcwMTQ1M2Q5NmM1NDdlMGRlNzYyNmFiKTsKICAgICAgICAKCiAgICAgICAgY2lyY2xlX21hcmtlcl80NmFiNTMwOGVkODc0ODI4YTkyMTJlNzJiMzM3NjJhNy5iaW5kUG9wdXAocG9wdXBfNjYxMTMzOWQ3MDhkNGUwNjk2Y2ZhMjQyZmEwYzE5MTApCiAgICAgICAgOwoKICAgICAgICAKICAgIAogICAgCiAgICAgICAgICAgIHZhciBjaXJjbGVfbWFya2VyXzcwNWU5ZmZmNWE1MDQ0OWJiYTgzMGVmN2ZlNWYzYWFhID0gTC5jaXJjbGVNYXJrZXIoCiAgICAgICAgICAgICAgICBbNS4zNjUxLCAtNC4wMjM2XSwKICAgICAgICAgICAgICAgIHsiYnViYmxpbmdNb3VzZUV2ZW50cyI6IHRydWUsICJjb2xvciI6ICJibHVlIiwgImRhc2hBcnJheSI6IG51bGwsICJkYXNoT2Zmc2V0IjogbnVsbCwgImZpbGwiOiB0cnVlLCAiZmlsbENvbG9yIjogIiMzMTg2Y2MiLCAiZmlsbE9wYWNpdHkiOiAwLjcsICJmaWxsUnVsZSI6ICJldmVub2RkIiwgImxpbmVDYXAiOiAicm91bmQiLCAibGluZUpvaW4iOiAicm91bmQiLCAib3BhY2l0eSI6IDEuMCwgInJhZGl1cyI6IDUsICJzdHJva2UiOiB0cnVlLCAid2VpZ2h0IjogM30KICAgICAgICAgICAgKS5hZGRUbyhtYXBfZDkxNDViNDAzNzhjNGE2NjgwYTE3M2Q3Zjg3OTJjMDApOwogICAgICAgIAogICAgCiAgICAgICAgdmFyIHBvcHVwXzcyYmMzOGUwY2RhYzQ2MGNhMGEyNmI1ZGFhYzJmNzJhID0gTC5wb3B1cCh7Im1heFdpZHRoIjogIjEwMCUifSk7CgogICAgICAgIAogICAgICAgICAgICB2YXIgaHRtbF85MTRjNDk4YzQ0OTU0ODhiOGUyOWFkYWNmMzBlYjMwMCA9ICQoYDxkaXYgaWQ9Imh0bWxfOTE0YzQ5OGM0NDk1NDg4YjhlMjlhZGFjZjMwZWIzMDAiIHN0eWxlPSJ3aWR0aDogMTAwLjAlOyBoZWlnaHQ6IDEwMC4wJTsiPkFkamFtZTwvZGl2PmApWzBdOwogICAgICAgICAgICBwb3B1cF83MmJjMzhlMGNkYWM0NjBjYTBhMjZiNWRhYWMyZjcyYS5zZXRDb250ZW50KGh0bWxfOTE0YzQ5OGM0NDk1NDg4YjhlMjlhZGFjZjMwZWIzMDApOwogICAgICAgIAoKICAgICAgICBjaXJjbGVfbWFya2VyXzcwNWU5ZmZmNWE1MDQ0OWJiYTgzMGVmN2ZlNWYzYWFhLmJpbmRQb3B1cChwb3B1cF83MmJjMzhlMGNkYWM0NjBjYTBhMjZiNWRhYWMyZjcyYSkKICAgICAgICA7CgogICAgICAgIAogICAgCiAgICAKICAgICAgICAgICAgdmFyIGNpcmNsZV9tYXJrZXJfZmY4MDhhYjQyMWE0NDUzOGE1OGViYjQ1NmRlZDAwOWEgPSBMLmNpcmNsZU1hcmtlcigKICAgICAgICAgICAgICAgIFs1LjMxNzcsIC00LjA5XSwKICAgICAgICAgICAgICAgIHsiYnViYmxpbmdNb3VzZUV2ZW50cyI6IHRydWUsICJjb2xvciI6ICJibHVlIiwgImRhc2hBcnJheSI6IG51bGwsICJkYXNoT2Zmc2V0IjogbnVsbCwgImZpbGwiOiB0cnVlLCAiZmlsbENvbG9yIjogIiMzMTg2Y2MiLCAiZmlsbE9wYWNpdHkiOiAwLjcsICJmaWxsUnVsZSI6ICJldmVub2RkIiwgImxpbmVDYXAiOiAicm91bmQiLCAibGluZUpvaW4iOiAicm91bmQiLCAib3BhY2l0eSI6IDEuMCwgInJhZGl1cyI6IDUsICJzdHJva2UiOiB0cnVlLCAid2VpZ2h0IjogM30KICAgICAgICAgICAgKS5hZGRUbyhtYXBfZDkxNDViNDAzNzhjNGE2NjgwYTE3M2Q3Zjg3OTJjMDApOwogICAgICAgIAogICAgCiAgICAgICAgdmFyIHBvcHVwXzM1NzY3YTYwMTNmMjQ4ZjViZjM0MmNiNGY4ZDQ4YWU5ID0gTC5wb3B1cCh7Im1heFdpZHRoIjogIjEwMCUifSk7CgogICAgICAgIAogICAgICAgICAgICB2YXIgaHRtbF9jZTAxM2FlZTUxYTY0MmYyYmM3YzdiOTQyODk2YjkxMCA9ICQoYDxkaXYgaWQ9Imh0bWxfY2UwMTNhZWU1MWE2NDJmMmJjN2M3Yjk0Mjg5NmI5MTAiIHN0eWxlPSJ3aWR0aDogMTAwLjAlOyBoZWlnaHQ6IDEwMC4wJTsiPllvcG91Z29uPC9kaXY+YClbMF07CiAgICAgICAgICAgIHBvcHVwXzM1NzY3YTYwMTNmMjQ4ZjViZjM0MmNiNGY4ZDQ4YWU5LnNldENvbnRlbnQoaHRtbF9jZTAxM2FlZTUxYTY0MmYyYmM3YzdiOTQyODk2YjkxMCk7CiAgICAgICAgCgogICAgICAgIGNpcmNsZV9tYXJrZXJfZmY4MDhhYjQyMWE0NDUzOGE1OGViYjQ1NmRlZDAwOWEuYmluZFBvcHVwKHBvcHVwXzM1NzY3YTYwMTNmMjQ4ZjViZjM0MmNiNGY4ZDQ4YWU5KQogICAgICAgIDsKCiAgICAgICAgCiAgICAKICAgIAogICAgICAgICAgICB2YXIgY2lyY2xlX21hcmtlcl82MDdlOGQ3NGE1YzI0YmM2OTEwNDg5N2FjNzgwNWM3NiA9IEwuY2lyY2xlTWFya2VyKAogICAgICAgICAgICAgICAgWzUuMzIzMywgLTQuMDIzNl0sCiAgICAgICAgICAgICAgICB7ImJ1YmJsaW5nTW91c2VFdmVudHMiOiB0cnVlLCAiY29sb3IiOiAiYmx1ZSIsICJkYXNoQXJyYXkiOiBudWxsLCAiZGFzaE9mZnNldCI6IG51bGwsICJmaWxsIjogdHJ1ZSwgImZpbGxDb2xvciI6ICIjMzE4NmNjIiwgImZpbGxPcGFjaXR5IjogMC43LCAiZmlsbFJ1bGUiOiAiZXZlbm9kZCIsICJsaW5lQ2FwIjogInJvdW5kIiwgImxpbmVKb2luIjogInJvdW5kIiwgIm9wYWNpdHkiOiAxLjAsICJyYWRpdXMiOiA1LCAic3Ryb2tlIjogdHJ1ZSwgIndlaWdodCI6IDN9CiAgICAgICAgICAgICkuYWRkVG8obWFwX2Q5MTQ1YjQwMzc4YzRhNjY4MGExNzNkN2Y4NzkyYzAwKTsKICAgICAgICAKICAgIAogICAgICAgIHZhciBwb3B1cF9hNWY4ODU3NDM2Yzk0MDk5YWIyZmYyMzY0MTliMTJkMyA9IEwucG9wdXAoeyJtYXhXaWR0aCI6ICIxMDAlIn0pOwoKICAgICAgICAKICAgICAgICAgICAgdmFyIGh0bWxfMDUyOWNmZDMwZTExNDFhYmI5YWNhNWU3MjU2NTNkNjkgPSAkKGA8ZGl2IGlkPSJodG1sXzA1MjljZmQzMGUxMTQxYWJiOWFjYTVlNzI1NjUzZDY5IiBzdHlsZT0id2lkdGg6IDEwMC4wJTsgaGVpZ2h0OiAxMDAuMCU7Ij5QbGF0ZWF1PC9kaXY+YClbMF07CiAgICAgICAgICAgIHBvcHVwX2E1Zjg4NTc0MzZjOTQwOTlhYjJmZjIzNjQxOWIxMmQzLnNldENvbnRlbnQoaHRtbF8wNTI5Y2ZkMzBlMTE0MWFiYjlhY2E1ZTcyNTY1M2Q2OSk7CiAgICAgICAgCgogICAgICAgIGNpcmNsZV9tYXJrZXJfNjA3ZThkNzRhNWMyNGJjNjkxMDQ4OTdhYzc4MDVjNzYuYmluZFBvcHVwKHBvcHVwX2E1Zjg4NTc0MzZjOTQwOTlhYjJmZjIzNjQxOWIxMmQzKQogICAgICAgIDsKCiAgICAgICAgCiAgICAKICAgIAogICAgICAgICAgICB2YXIgY2lyY2xlX21hcmtlcl9lOWRmM2Q1OWY0MzY0NDEyYTEwZDExOGZmNjZhZGYyMiA9IEwuY2lyY2xlTWFya2VyKAogICAgICAgICAgICAgICAgWzUuMzM2MiwgLTQuMDQxNF0sCiAgICAgICAgICAgICAgICB7ImJ1YmJsaW5nTW91c2VFdmVudHMiOiB0cnVlLCAiY29sb3IiOiAiYmx1ZSIsICJkYXNoQXJyYXkiOiBudWxsLCAiZGFzaE9mZnNldCI6IG51bGwsICJmaWxsIjogdHJ1ZSwgImZpbGxDb2xvciI6ICIjMzE4NmNjIiwgImZpbGxPcGFjaXR5IjogMC43LCAiZmlsbFJ1bGUiOiAiZXZlbm9kZCIsICJsaW5lQ2FwIjogInJvdW5kIiwgImxpbmVKb2luIjogInJvdW5kIiwgIm9wYWNpdHkiOiAxLjAsICJyYWRpdXMiOiA1LCAic3Ryb2tlIjogdHJ1ZSwgIndlaWdodCI6IDN9CiAgICAgICAgICAgICkuYWRkVG8obWFwX2Q5MTQ1YjQwMzc4YzRhNjY4MGExNzNkN2Y4NzkyYzAwKTsKICAgICAgICAKICAgIAogICAgICAgIHZhciBwb3B1cF81NWJiNDExNGQwOTc0YTQ0YmQ4YWQ2MjBlOGNlYzk2NCA9IEwucG9wdXAoeyJtYXhXaWR0aCI6ICIxMDAlIn0pOwoKICAgICAgICAKICAgICAgICAgICAgdmFyIGh0bWxfN2RlOGYyZjMxNDUwNGFmNWIzODM4OTA2ZjllNGEzOTggPSAkKGA8ZGl2IGlkPSJodG1sXzdkZThmMmYzMTQ1MDRhZjViMzgzODkwNmY5ZTRhMzk4IiBzdHlsZT0id2lkdGg6IDEwMC4wJTsgaGVpZ2h0OiAxMDAuMCU7Ij5BdHRlY291YmU8L2Rpdj5gKVswXTsKICAgICAgICAgICAgcG9wdXBfNTViYjQxMTRkMDk3NGE0NGJkOGFkNjIwZThjZWM5NjQuc2V0Q29udGVudChodG1sXzdkZThmMmYzMTQ1MDRhZjViMzgzODkwNmY5ZTRhMzk4KTsKICAgICAgICAKCiAgICAgICAgY2lyY2xlX21hcmtlcl9lOWRmM2Q1OWY0MzY0NDEyYTEwZDExOGZmNjZhZGYyMi5iaW5kUG9wdXAocG9wdXBfNTViYjQxMTRkMDk3NGE0NGJkOGFkNjIwZThjZWM5NjQpCiAgICAgICAgOwoKICAgICAgICAKICAgIAogICAgCiAgICAgICAgICAgIHZhciBjaXJjbGVfbWFya2VyXzVlNWRkOTQxNGI5YzQxMjQ5MjdhMTkzZjM1MmZjNTM3ID0gTC5jaXJjbGVNYXJrZXIoCiAgICAgICAgICAgICAgICBbNS4zNjAyLCAtMy45Njc0XSwKICAgICAgICAgICAgICAgIHsiYnViYmxpbmdNb3VzZUV2ZW50cyI6IHRydWUsICJjb2xvciI6ICJibHVlIiwgImRhc2hBcnJheSI6IG51bGwsICJkYXNoT2Zmc2V0IjogbnVsbCwgImZpbGwiOiB0cnVlLCAiZmlsbENvbG9yIjogIiMzMTg2Y2MiLCAiZmlsbE9wYWNpdHkiOiAwLjcsICJmaWxsUnVsZSI6ICJldmVub2RkIiwgImxpbmVDYXAiOiAicm91bmQiLCAibGluZUpvaW4iOiAicm91bmQiLCAib3BhY2l0eSI6IDEuMCwgInJhZGl1cyI6IDUsICJzdHJva2UiOiB0cnVlLCAid2VpZ2h0IjogM30KICAgICAgICAgICAgKS5hZGRUbyhtYXBfZDkxNDViNDAzNzhjNGE2NjgwYTE3M2Q3Zjg3OTJjMDApOwogICAgICAgIAogICAgCiAgICAgICAgdmFyIHBvcHVwX2QwNDI0ZWVjNzYxNDQxYTFhZmVjNGQ4MmY0MjNmMTI2ID0gTC5wb3B1cCh7Im1heFdpZHRoIjogIjEwMCUifSk7CgogICAgICAgIAogICAgICAgICAgICB2YXIgaHRtbF84OWQxYmI1MmYwNjM0NjVhOGZiOWNmNTBmMTI3MWYxMCA9ICQoYDxkaXYgaWQ9Imh0bWxfODlkMWJiNTJmMDYzNDY1YThmYjljZjUwZjEyNzFmMTAiIHN0eWxlPSJ3aWR0aDogMTAwLjAlOyBoZWlnaHQ6IDEwMC4wJTsiPkNvY29keTwvZGl2PmApWzBdOwogICAgICAgICAgICBwb3B1cF9kMDQyNGVlYzc2MTQ0MWExYWZlYzRkODJmNDIzZjEyNi5zZXRDb250ZW50KGh0bWxfODlkMWJiNTJmMDYzNDY1YThmYjljZjUwZjEyNzFmMTApOwogICAgICAgIAoKICAgICAgICBjaXJjbGVfbWFya2VyXzVlNWRkOTQxNGI5YzQxMjQ5MjdhMTkzZjM1MmZjNTM3LmJpbmRQb3B1cChwb3B1cF9kMDQyNGVlYzc2MTQ0MWExYWZlYzRkODJmNDIzZjEyNikKICAgICAgICA7CgogICAgICAgIAogICAgCiAgICAKICAgICAgICAgICAgdmFyIGNpcmNsZV9tYXJrZXJfYzc0MjE2ZWEwNjRkNDJmOTk5NThmOTU2OGEzZDZiOTkgPSBMLmNpcmNsZU1hcmtlcigKICAgICAgICAgICAgICAgIFs1LjMwMywgLTMuOTQxOV0sCiAgICAgICAgICAgICAgICB7ImJ1YmJsaW5nTW91c2VFdmVudHMiOiB0cnVlLCAiY29sb3IiOiAiYmx1ZSIsICJkYXNoQXJyYXkiOiBudWxsLCAiZGFzaE9mZnNldCI6IG51bGwsICJmaWxsIjogdHJ1ZSwgImZpbGxDb2xvciI6ICIjMzE4NmNjIiwgImZpbGxPcGFjaXR5IjogMC43LCAiZmlsbFJ1bGUiOiAiZXZlbm9kZCIsICJsaW5lQ2FwIjogInJvdW5kIiwgImxpbmVKb2luIjogInJvdW5kIiwgIm9wYWNpdHkiOiAxLjAsICJyYWRpdXMiOiA1LCAic3Ryb2tlIjogdHJ1ZSwgIndlaWdodCI6IDN9CiAgICAgICAgICAgICkuYWRkVG8obWFwX2Q5MTQ1YjQwMzc4YzRhNjY4MGExNzNkN2Y4NzkyYzAwKTsKICAgICAgICAKICAgIAogICAgICAgIHZhciBwb3B1cF9hODliNDJmNmY0NjQ0ZDM5YWI2NDE4ZTkxNzgyYmE1YiA9IEwucG9wdXAoeyJtYXhXaWR0aCI6ICIxMDAlIn0pOwoKICAgICAgICAKICAgICAgICAgICAgdmFyIGh0bWxfOTUwMjhhOTYzNTQ3NDI2NWI0ZDk2YWM2ZTExZTcxOGMgPSAkKGA8ZGl2IGlkPSJodG1sXzk1MDI4YTk2MzU0NzQyNjViNGQ5NmFjNmUxMWU3MThjIiBzdHlsZT0id2lkdGg6IDEwMC4wJTsgaGVpZ2h0OiAxMDAuMCU7Ij5Lb3VtYXNzaTwvZGl2PmApWzBdOwogICAgICAgICAgICBwb3B1cF9hODliNDJmNmY0NjQ0ZDM5YWI2NDE4ZTkxNzgyYmE1Yi5zZXRDb250ZW50KGh0bWxfOTUwMjhhOTYzNTQ3NDI2NWI0ZDk2YWM2ZTExZTcxOGMpOwogICAgICAgIAoKICAgICAgICBjaXJjbGVfbWFya2VyX2M3NDIxNmVhMDY0ZDQyZjk5OTU4Zjk1NjhhM2Q2Yjk5LmJpbmRQb3B1cChwb3B1cF9hODliNDJmNmY0NjQ0ZDM5YWI2NDE4ZTkxNzgyYmE1YikKICAgICAgICA7CgogICAgICAgIAogICAgCiAgICAKICAgICAgICAgICAgdmFyIGNpcmNsZV9tYXJrZXJfYjk0NDc5MTg0YjAxNGU3NGIzZWU2YTJkM2FhYzhhNGYgPSBMLmNpcmNsZU1hcmtlcigKICAgICAgICAgICAgICAgIFs1LjMwMjcsIC0zLjk4MjddLAogICAgICAgICAgICAgICAgeyJidWJibGluZ01vdXNlRXZlbnRzIjogdHJ1ZSwgImNvbG9yIjogImJsdWUiLCAiZGFzaEFycmF5IjogbnVsbCwgImRhc2hPZmZzZXQiOiBudWxsLCAiZmlsbCI6IHRydWUsICJmaWxsQ29sb3IiOiAiIzMxODZjYyIsICJmaWxsT3BhY2l0eSI6IDAuNywgImZpbGxSdWxlIjogImV2ZW5vZGQiLCAibGluZUNhcCI6ICJyb3VuZCIsICJsaW5lSm9pbiI6ICJyb3VuZCIsICJvcGFjaXR5IjogMS4wLCAicmFkaXVzIjogNSwgInN0cm9rZSI6IHRydWUsICJ3ZWlnaHQiOiAzfQogICAgICAgICAgICApLmFkZFRvKG1hcF9kOTE0NWI0MDM3OGM0YTY2ODBhMTczZDdmODc5MmMwMCk7CiAgICAgICAgCiAgICAKICAgICAgICB2YXIgcG9wdXBfYzRkMDkxMGQzZjBhNGEyNmJhY2FlZWY4NDEwODk1ZjcgPSBMLnBvcHVwKHsibWF4V2lkdGgiOiAiMTAwJSJ9KTsKCiAgICAgICAgCiAgICAgICAgICAgIHZhciBodG1sX2IzODU3NGRkZjVlYzQ4ODI4Nzc4ZmE0NjI1Mjc3ZWRhID0gJChgPGRpdiBpZD0iaHRtbF9iMzg1NzRkZGY1ZWM0ODgyODc3OGZhNDYyNTI3N2VkYSIgc3R5bGU9IndpZHRoOiAxMDAuMCU7IGhlaWdodDogMTAwLjAlOyI+TWFyY29yeTwvZGl2PmApWzBdOwogICAgICAgICAgICBwb3B1cF9jNGQwOTEwZDNmMGE0YTI2YmFjYWVlZjg0MTA4OTVmNy5zZXRDb250ZW50KGh0bWxfYjM4NTc0ZGRmNWVjNDg4Mjg3NzhmYTQ2MjUyNzdlZGEpOwogICAgICAgIAoKICAgICAgICBjaXJjbGVfbWFya2VyX2I5NDQ3OTE4NGIwMTRlNzRiM2VlNmEyZDNhYWM4YTRmLmJpbmRQb3B1cChwb3B1cF9jNGQwOTEwZDNmMGE0YTI2YmFjYWVlZjg0MTA4OTVmNykKICAgICAgICA7CgogICAgICAgIAogICAgCiAgICAKICAgICAgICAgICAgdmFyIGNpcmNsZV9tYXJrZXJfODIzNGM4NjE3MDVmNGMzMTgyNGNlNTNiOTMwYTYxM2EgPSBMLmNpcmNsZU1hcmtlcigKICAgICAgICAgICAgICAgIFs1LjI3NzMsIC0zLjg4NTldLAogICAgICAgICAgICAgICAgeyJidWJibGluZ01vdXNlRXZlbnRzIjogdHJ1ZSwgImNvbG9yIjogImJsdWUiLCAiZGFzaEFycmF5IjogbnVsbCwgImRhc2hPZmZzZXQiOiBudWxsLCAiZmlsbCI6IHRydWUsICJmaWxsQ29sb3IiOiAiIzMxODZjYyIsICJmaWxsT3BhY2l0eSI6IDAuNywgImZpbGxSdWxlIjogImV2ZW5vZGQiLCAibGluZUNhcCI6ICJyb3VuZCIsICJsaW5lSm9pbiI6ICJyb3VuZCIsICJvcGFjaXR5IjogMS4wLCAicmFkaXVzIjogNSwgInN0cm9rZSI6IHRydWUsICJ3ZWlnaHQiOiAzfQogICAgICAgICAgICApLmFkZFRvKG1hcF9kOTE0NWI0MDM3OGM0YTY2ODBhMTczZDdmODc5MmMwMCk7CiAgICAgICAgCiAgICAKICAgICAgICB2YXIgcG9wdXBfMGY3OGQxZjZhY2QwNDMxM2ExZTA4MzE1NzdiMjBhNzggPSBMLnBvcHVwKHsibWF4V2lkdGgiOiAiMTAwJSJ9KTsKCiAgICAgICAgCiAgICAgICAgICAgIHZhciBodG1sXzcyODRjMjk2NjdjOTRhZjA5ZjZhZGEwYTk2NjRlZmE4ID0gJChgPGRpdiBpZD0iaHRtbF83Mjg0YzI5NjY3Yzk0YWYwOWY2YWRhMGE5NjY0ZWZhOCIgc3R5bGU9IndpZHRoOiAxMDAuMCU7IGhlaWdodDogMTAwLjAlOyI+UG9ydC1Cb3VldDwvZGl2PmApWzBdOwogICAgICAgICAgICBwb3B1cF8wZjc4ZDFmNmFjZDA0MzEzYTFlMDgzMTU3N2IyMGE3OC5zZXRDb250ZW50KGh0bWxfNzI4NGMyOTY2N2M5NGFmMDlmNmFkYTBhOTY2NGVmYTgpOwogICAgICAgIAoKICAgICAgICBjaXJjbGVfbWFya2VyXzgyMzRjODYxNzA1ZjRjMzE4MjRjZTUzYjkzMGE2MTNhLmJpbmRQb3B1cChwb3B1cF8wZjc4ZDFmNmFjZDA0MzEzYTFlMDgzMTU3N2IyMGE3OCkKICAgICAgICA7CgogICAgICAgIAogICAgCiAgICAKICAgICAgICAgICAgdmFyIGNpcmNsZV9tYXJrZXJfOGZhOWMyYWJjZTk1NDllOGE3MzE4MDM1OGM3ZmE3YmUgPSBMLmNpcmNsZU1hcmtlcigKICAgICAgICAgICAgICAgIFs1LjI5MjEsIC00LjAxMzRdLAogICAgICAgICAgICAgICAgeyJidWJibGluZ01vdXNlRXZlbnRzIjogdHJ1ZSwgImNvbG9yIjogImJsdWUiLCAiZGFzaEFycmF5IjogbnVsbCwgImRhc2hPZmZzZXQiOiBudWxsLCAiZmlsbCI6IHRydWUsICJmaWxsQ29sb3IiOiAiIzMxODZjYyIsICJmaWxsT3BhY2l0eSI6IDAuNywgImZpbGxSdWxlIjogImV2ZW5vZGQiLCAibGluZUNhcCI6ICJyb3VuZCIsICJsaW5lSm9pbiI6ICJyb3VuZCIsICJvcGFjaXR5IjogMS4wLCAicmFkaXVzIjogNSwgInN0cm9rZSI6IHRydWUsICJ3ZWlnaHQiOiAzfQogICAgICAgICAgICApLmFkZFRvKG1hcF9kOTE0NWI0MDM3OGM0YTY2ODBhMTczZDdmODc5MmMwMCk7CiAgICAgICAgCiAgICAKICAgICAgICB2YXIgcG9wdXBfNTBjODQxZjk4M2VlNGIyYmIzZDYwNzY5MjdkNDE3MmUgPSBMLnBvcHVwKHsibWF4V2lkdGgiOiAiMTAwJSJ9KTsKCiAgICAgICAgCiAgICAgICAgICAgIHZhciBodG1sXzEzZTkyMTQ1Y2U3MDQ3YzdiNjgxODM1ODQ5MzkxYjhlID0gJChgPGRpdiBpZD0iaHRtbF8xM2U5MjE0NWNlNzA0N2M3YjY4MTgzNTg0OTM5MWI4ZSIgc3R5bGU9IndpZHRoOiAxMDAuMCU7IGhlaWdodDogMTAwLjAlOyI+VHJlaWNodmlsbGU8L2Rpdj5gKVswXTsKICAgICAgICAgICAgcG9wdXBfNTBjODQxZjk4M2VlNGIyYmIzZDYwNzY5MjdkNDE3MmUuc2V0Q29udGVudChodG1sXzEzZTkyMTQ1Y2U3MDQ3YzdiNjgxODM1ODQ5MzkxYjhlKTsKICAgICAgICAKCiAgICAgICAgY2lyY2xlX21hcmtlcl84ZmE5YzJhYmNlOTU0OWU4YTczMTgwMzU4YzdmYTdiZS5iaW5kUG9wdXAocG9wdXBfNTBjODQxZjk4M2VlNGIyYmIzZDYwNzY5MjdkNDE3MmUpCiAgICAgICAgOwoKICAgICAgICAKICAgIAogICAgCiAgICAgICAgICAgIHZhciBjaXJjbGVfbWFya2VyXzg0MTI1Yzk1Yjc5NDRjNzdhODU4YWQ2YmNhYjZlZTQ3ID0gTC5jaXJjbGVNYXJrZXIoCiAgICAgICAgICAgICAgICBbNS4yODExLCAtNC4wOTUxXSwKICAgICAgICAgICAgICAgIHsiYnViYmxpbmdNb3VzZUV2ZW50cyI6IHRydWUsICJjb2xvciI6ICJibHVlIiwgImRhc2hBcnJheSI6IG51bGwsICJkYXNoT2Zmc2V0IjogbnVsbCwgImZpbGwiOiB0cnVlLCAiZmlsbENvbG9yIjogIiMzMTg2Y2MiLCAiZmlsbE9wYWNpdHkiOiAwLjcsICJmaWxsUnVsZSI6ICJldmVub2RkIiwgImxpbmVDYXAiOiAicm91bmQiLCAibGluZUpvaW4iOiAicm91bmQiLCAib3BhY2l0eSI6IDEuMCwgInJhZGl1cyI6IDUsICJzdHJva2UiOiB0cnVlLCAid2VpZ2h0IjogM30KICAgICAgICAgICAgKS5hZGRUbyhtYXBfZDkxNDViNDAzNzhjNGE2NjgwYTE3M2Q3Zjg3OTJjMDApOwogICAgICAgIAogICAgCiAgICAgICAgdmFyIHBvcHVwX2IyMWRiZGQzZTQ4NzRhMDY4NjM5Y2E0NjBmN2Y3M2U0ID0gTC5wb3B1cCh7Im1heFdpZHRoIjogIjEwMCUifSk7CgogICAgICAgIAogICAgICAgICAgICB2YXIgaHRtbF85NDcyYzkyZDgyOTE0MDJjOTM0MDAyODc3OTMyMTcyYyA9ICQoYDxkaXYgaWQ9Imh0bWxfOTQ3MmM5MmQ4MjkxNDAyYzkzNDAwMjg3NzkzMjE3MmMiIHN0eWxlPSJ3aWR0aDogMTAwLjAlOyBoZWlnaHQ6IDEwMC4wJTsiPklsZSBCb3VsYXk8L2Rpdj5gKVswXTsKICAgICAgICAgICAgcG9wdXBfYjIxZGJkZDNlNDg3NGEwNjg2MzljYTQ2MGY3ZjczZTQuc2V0Q29udGVudChodG1sXzk0NzJjOTJkODI5MTQwMmM5MzQwMDI4Nzc5MzIxNzJjKTsKICAgICAgICAKCiAgICAgICAgY2lyY2xlX21hcmtlcl84NDEyNWM5NWI3OTQ0Yzc3YTg1OGFkNmJjYWI2ZWU0Ny5iaW5kUG9wdXAocG9wdXBfYjIxZGJkZDNlNDg3NGEwNjg2MzljYTQ2MGY3ZjczZTQpCiAgICAgICAgOwoKICAgICAgICAKICAgIAogICAgCiAgICAgICAgICAgIHZhciBtYXJrZXJfMDI1MDFhNjg0ZjRmNDllZTllNmFmNWIzYzBlMjU2ZGMgPSBMLm1hcmtlcigKICAgICAgICAgICAgICAgIFs1LjQzMjksIC00LjAzODldLAogICAgICAgICAgICAgICAge30KICAgICAgICAgICAgKS5hZGRUbyhtYXBfZDkxNDViNDAzNzhjNGE2NjgwYTE3M2Q3Zjg3OTJjMDApOwogICAgICAgIAogICAgCiAgICAgICAgdmFyIHBvcHVwX2FlNzc3ODI3MWIwMjRlNzBiYzU4YzBlZTQzNzJkYjBiID0gTC5wb3B1cCh7Im1heFdpZHRoIjogIjEwMCUifSk7CgogICAgICAgIAogICAgICAgICAgICB2YXIgaHRtbF9kNzA3NmQzZDMzMTU0MmJhYjZmNzc3YzMwODk3MDFkZiA9ICQoYDxkaXYgaWQ9Imh0bWxfZDcwNzZkM2QzMzE1NDJiYWI2Zjc3N2MzMDg5NzAxZGYiIHN0eWxlPSJ3aWR0aDogMTAwLjAlOyBoZWlnaHQ6IDEwMC4wJTsiPkFib2JvPC9kaXY+YClbMF07CiAgICAgICAgICAgIHBvcHVwX2FlNzc3ODI3MWIwMjRlNzBiYzU4YzBlZTQzNzJkYjBiLnNldENvbnRlbnQoaHRtbF9kNzA3NmQzZDMzMTU0MmJhYjZmNzc3YzMwODk3MDFkZik7CiAgICAgICAgCgogICAgICAgIG1hcmtlcl8wMjUwMWE2ODRmNGY0OWVlOWU2YWY1YjNjMGUyNTZkYy5iaW5kUG9wdXAocG9wdXBfYWU3Nzc4MjcxYjAyNGU3MGJjNThjMGVlNDM3MmRiMGIpCiAgICAgICAgOwoKICAgICAgICAKICAgIAogICAgCiAgICAgICAgICAgIHZhciBtYXJrZXJfNzlhMDAzZWMyNzg4NGZlNmFlOWI2OGRhYzBiYTEzMTQgPSBMLm1hcmtlcigKICAgICAgICAgICAgICAgIFs1LjM2NTEsIC00LjAyMzZdLAogICAgICAgICAgICAgICAge30KICAgICAgICAgICAgKS5hZGRUbyhtYXBfZDkxNDViNDAzNzhjNGE2NjgwYTE3M2Q3Zjg3OTJjMDApOwogICAgICAgIAogICAgCiAgICAgICAgdmFyIHBvcHVwX2Y2ZGE3OTRhMzJkODQxNTA4NDYyNGU1MzU2MmQ4MTFiID0gTC5wb3B1cCh7Im1heFdpZHRoIjogIjEwMCUifSk7CgogICAgICAgIAogICAgICAgICAgICB2YXIgaHRtbF8xOThlZTlkMmI5NzM0NDQ3YmJmOWNlZWJlMDQ5YzE1OSA9ICQoYDxkaXYgaWQ9Imh0bWxfMTk4ZWU5ZDJiOTczNDQ0N2JiZjljZWViZTA0OWMxNTkiIHN0eWxlPSJ3aWR0aDogMTAwLjAlOyBoZWlnaHQ6IDEwMC4wJTsiPkFkamFtZTwvZGl2PmApWzBdOwogICAgICAgICAgICBwb3B1cF9mNmRhNzk0YTMyZDg0MTUwODQ2MjRlNTM1NjJkODExYi5zZXRDb250ZW50KGh0bWxfMTk4ZWU5ZDJiOTczNDQ0N2JiZjljZWViZTA0OWMxNTkpOwogICAgICAgIAoKICAgICAgICBtYXJrZXJfNzlhMDAzZWMyNzg4NGZlNmFlOWI2OGRhYzBiYTEzMTQuYmluZFBvcHVwKHBvcHVwX2Y2ZGE3OTRhMzJkODQxNTA4NDYyNGU1MzU2MmQ4MTFiKQogICAgICAgIDsKCiAgICAgICAgCiAgICAKICAgIAogICAgICAgICAgICB2YXIgbWFya2VyX2JkZDc1MDNhYzViYzQ0YmVhOWZlNDE4NzY4MTJlMTYxID0gTC5tYXJrZXIoCiAgICAgICAgICAgICAgICBbNS4zMTc3LCAtNC4wOV0sCiAgICAgICAgICAgICAgICB7fQogICAgICAgICAgICApLmFkZFRvKG1hcF9kOTE0NWI0MDM3OGM0YTY2ODBhMTczZDdmODc5MmMwMCk7CiAgICAgICAgCiAgICAKICAgICAgICB2YXIgcG9wdXBfMTBlNDQxNWNkNzhlNGM4NDk0NmZkY2ZhMzRkMDYzYzEgPSBMLnBvcHVwKHsibWF4V2lkdGgiOiAiMTAwJSJ9KTsKCiAgICAgICAgCiAgICAgICAgICAgIHZhciBodG1sXzc5OTIyMGE4N2IzZDQ5MDA5ZDk3MTRkMmRmNzc2ZGIyID0gJChgPGRpdiBpZD0iaHRtbF83OTkyMjBhODdiM2Q0OTAwOWQ5NzE0ZDJkZjc3NmRiMiIgc3R5bGU9IndpZHRoOiAxMDAuMCU7IGhlaWdodDogMTAwLjAlOyI+WW9wb3Vnb248L2Rpdj5gKVswXTsKICAgICAgICAgICAgcG9wdXBfMTBlNDQxNWNkNzhlNGM4NDk0NmZkY2ZhMzRkMDYzYzEuc2V0Q29udGVudChodG1sXzc5OTIyMGE4N2IzZDQ5MDA5ZDk3MTRkMmRmNzc2ZGIyKTsKICAgICAgICAKCiAgICAgICAgbWFya2VyX2JkZDc1MDNhYzViYzQ0YmVhOWZlNDE4NzY4MTJlMTYxLmJpbmRQb3B1cChwb3B1cF8xMGU0NDE1Y2Q3OGU0Yzg0OTQ2ZmRjZmEzNGQwNjNjMSkKICAgICAgICA7CgogICAgICAgIAogICAgCiAgICAKICAgICAgICAgICAgdmFyIG1hcmtlcl8yMmVkNjI5ZjkyM2M0ZWVmYThiYzU3MmViZjk2ZDM5NiA9IEwubWFya2VyKAogICAgICAgICAgICAgICAgWzUuMzIzMywgLTQuMDIzNl0sCiAgICAgICAgICAgICAgICB7fQogICAgICAgICAgICApLmFkZFRvKG1hcF9kOTE0NWI0MDM3OGM0YTY2ODBhMTczZDdmODc5MmMwMCk7CiAgICAgICAgCiAgICAKICAgICAgICB2YXIgcG9wdXBfYjM4ZDJlZjQyZDNkNDVhNGIzNDMyNDA5YTdmMTQ2M2UgPSBMLnBvcHVwKHsibWF4V2lkdGgiOiAiMTAwJSJ9KTsKCiAgICAgICAgCiAgICAgICAgICAgIHZhciBodG1sX2ZhZTUzMDcwMGM2YTRkZWFiZjYwMzgyMzQ5ZjQzMzVkID0gJChgPGRpdiBpZD0iaHRtbF9mYWU1MzA3MDBjNmE0ZGVhYmY2MDM4MjM0OWY0MzM1ZCIgc3R5bGU9IndpZHRoOiAxMDAuMCU7IGhlaWdodDogMTAwLjAlOyI+UGxhdGVhdTwvZGl2PmApWzBdOwogICAgICAgICAgICBwb3B1cF9iMzhkMmVmNDJkM2Q0NWE0YjM0MzI0MDlhN2YxNDYzZS5zZXRDb250ZW50KGh0bWxfZmFlNTMwNzAwYzZhNGRlYWJmNjAzODIzNDlmNDMzNWQpOwogICAgICAgIAoKICAgICAgICBtYXJrZXJfMjJlZDYyOWY5MjNjNGVlZmE4YmM1NzJlYmY5NmQzOTYuYmluZFBvcHVwKHBvcHVwX2IzOGQyZWY0MmQzZDQ1YTRiMzQzMjQwOWE3ZjE0NjNlKQogICAgICAgIDsKCiAgICAgICAgCiAgICAKICAgIAogICAgICAgICAgICB2YXIgbWFya2VyXzgwZTU0ZmU5ZjEzNjQwODJiNzk5ZGYyZDcyNTFiNTZmID0gTC5tYXJrZXIoCiAgICAgICAgICAgICAgICBbNS4zMzYyLCAtNC4wNDE0XSwKICAgICAgICAgICAgICAgIHt9CiAgICAgICAgICAgICkuYWRkVG8obWFwX2Q5MTQ1YjQwMzc4YzRhNjY4MGExNzNkN2Y4NzkyYzAwKTsKICAgICAgICAKICAgIAogICAgICAgIHZhciBwb3B1cF83NDg4NmUxZGQ4MzM0YjY4YWE0MTRmNWRiY2M1OGE4ZSA9IEwucG9wdXAoeyJtYXhXaWR0aCI6ICIxMDAlIn0pOwoKICAgICAgICAKICAgICAgICAgICAgdmFyIGh0bWxfNjI1NzNhNzkwZDk4NGFiM2I3MTViNmQwYjdmMmUwMGUgPSAkKGA8ZGl2IGlkPSJodG1sXzYyNTczYTc5MGQ5ODRhYjNiNzE1YjZkMGI3ZjJlMDBlIiBzdHlsZT0id2lkdGg6IDEwMC4wJTsgaGVpZ2h0OiAxMDAuMCU7Ij5BdHRlY291YmU8L2Rpdj5gKVswXTsKICAgICAgICAgICAgcG9wdXBfNzQ4ODZlMWRkODMzNGI2OGFhNDE0ZjVkYmNjNThhOGUuc2V0Q29udGVudChodG1sXzYyNTczYTc5MGQ5ODRhYjNiNzE1YjZkMGI3ZjJlMDBlKTsKICAgICAgICAKCiAgICAgICAgbWFya2VyXzgwZTU0ZmU5ZjEzNjQwODJiNzk5ZGYyZDcyNTFiNTZmLmJpbmRQb3B1cChwb3B1cF83NDg4NmUxZGQ4MzM0YjY4YWE0MTRmNWRiY2M1OGE4ZSkKICAgICAgICA7CgogICAgICAgIAogICAgCiAgICAKICAgICAgICAgICAgdmFyIG1hcmtlcl9iMzYzMGJlZDUzZjY0M2ZjYjgxMzQzMjYyNzA3MzNlYSA9IEwubWFya2VyKAogICAgICAgICAgICAgICAgWzUuMzYwMiwgLTMuOTY3NF0sCiAgICAgICAgICAgICAgICB7fQogICAgICAgICAgICApLmFkZFRvKG1hcF9kOTE0NWI0MDM3OGM0YTY2ODBhMTczZDdmODc5MmMwMCk7CiAgICAgICAgCiAgICAKICAgICAgICB2YXIgcG9wdXBfNDk5Y2FjYjg2NmMzNDAxZWIzZTBiNDMyMzgyNGYyOWIgPSBMLnBvcHVwKHsibWF4V2lkdGgiOiAiMTAwJSJ9KTsKCiAgICAgICAgCiAgICAgICAgICAgIHZhciBodG1sXzYzYjNkM2U0ZDJhMzRlZDQ5MzAwNjczNTNmZmNkZTNjID0gJChgPGRpdiBpZD0iaHRtbF82M2IzZDNlNGQyYTM0ZWQ0OTMwMDY3MzUzZmZjZGUzYyIgc3R5bGU9IndpZHRoOiAxMDAuMCU7IGhlaWdodDogMTAwLjAlOyI+Q29jb2R5PC9kaXY+YClbMF07CiAgICAgICAgICAgIHBvcHVwXzQ5OWNhY2I4NjZjMzQwMWViM2UwYjQzMjM4MjRmMjliLnNldENvbnRlbnQoaHRtbF82M2IzZDNlNGQyYTM0ZWQ0OTMwMDY3MzUzZmZjZGUzYyk7CiAgICAgICAgCgogICAgICAgIG1hcmtlcl9iMzYzMGJlZDUzZjY0M2ZjYjgxMzQzMjYyNzA3MzNlYS5iaW5kUG9wdXAocG9wdXBfNDk5Y2FjYjg2NmMzNDAxZWIzZTBiNDMyMzgyNGYyOWIpCiAgICAgICAgOwoKICAgICAgICAKICAgIAogICAgCiAgICAgICAgICAgIHZhciBtYXJrZXJfM2ZlNTU1OGYxMDcxNGFiNjlkZDg3ZDk0NWYzNWM1NTMgPSBMLm1hcmtlcigKICAgICAgICAgICAgICAgIFs1LjMwMywgLTMuOTQxOV0sCiAgICAgICAgICAgICAgICB7fQogICAgICAgICAgICApLmFkZFRvKG1hcF9kOTE0NWI0MDM3OGM0YTY2ODBhMTczZDdmODc5MmMwMCk7CiAgICAgICAgCiAgICAKICAgICAgICB2YXIgcG9wdXBfMDI2MzA2OGY0OTFjNDRkYTlhYjUyOGQwZWFmNTQ0ZDQgPSBMLnBvcHVwKHsibWF4V2lkdGgiOiAiMTAwJSJ9KTsKCiAgICAgICAgCiAgICAgICAgICAgIHZhciBodG1sXzgwYzZlYTk5ZjhjYTRmNTk4N2I5ZjgwMzVmMmZlOTJhID0gJChgPGRpdiBpZD0iaHRtbF84MGM2ZWE5OWY4Y2E0ZjU5ODdiOWY4MDM1ZjJmZTkyYSIgc3R5bGU9IndpZHRoOiAxMDAuMCU7IGhlaWdodDogMTAwLjAlOyI+S291bWFzc2k8L2Rpdj5gKVswXTsKICAgICAgICAgICAgcG9wdXBfMDI2MzA2OGY0OTFjNDRkYTlhYjUyOGQwZWFmNTQ0ZDQuc2V0Q29udGVudChodG1sXzgwYzZlYTk5ZjhjYTRmNTk4N2I5ZjgwMzVmMmZlOTJhKTsKICAgICAgICAKCiAgICAgICAgbWFya2VyXzNmZTU1NThmMTA3MTRhYjY5ZGQ4N2Q5NDVmMzVjNTUzLmJpbmRQb3B1cChwb3B1cF8wMjYzMDY4ZjQ5MWM0NGRhOWFiNTI4ZDBlYWY1NDRkNCkKICAgICAgICA7CgogICAgICAgIAogICAgCiAgICAKICAgICAgICAgICAgdmFyIG1hcmtlcl8xOTgzMzA0Mzg5MGU0YTMwODBkMGY5ZWFmMGU1MmM1YyA9IEwubWFya2VyKAogICAgICAgICAgICAgICAgWzUuMzAyNywgLTMuOTgyN10sCiAgICAgICAgICAgICAgICB7fQogICAgICAgICAgICApLmFkZFRvKG1hcF9kOTE0NWI0MDM3OGM0YTY2ODBhMTczZDdmODc5MmMwMCk7CiAgICAgICAgCiAgICAKICAgICAgICB2YXIgcG9wdXBfNTdkOTM2MGI4OGVlNGUyNGJiMDBjNWYyODBiNDJhODEgPSBMLnBvcHVwKHsibWF4V2lkdGgiOiAiMTAwJSJ9KTsKCiAgICAgICAgCiAgICAgICAgICAgIHZhciBodG1sXzkyMzcyMGY3NzA5ZjQ0ZWI5Y2M1OWM2OGU3NGE3YThkID0gJChgPGRpdiBpZD0iaHRtbF85MjM3MjBmNzcwOWY0NGViOWNjNTljNjhlNzRhN2E4ZCIgc3R5bGU9IndpZHRoOiAxMDAuMCU7IGhlaWdodDogMTAwLjAlOyI+TWFyY29yeTwvZGl2PmApWzBdOwogICAgICAgICAgICBwb3B1cF81N2Q5MzYwYjg4ZWU0ZTI0YmIwMGM1ZjI4MGI0MmE4MS5zZXRDb250ZW50KGh0bWxfOTIzNzIwZjc3MDlmNDRlYjljYzU5YzY4ZTc0YTdhOGQpOwogICAgICAgIAoKICAgICAgICBtYXJrZXJfMTk4MzMwNDM4OTBlNGEzMDgwZDBmOWVhZjBlNTJjNWMuYmluZFBvcHVwKHBvcHVwXzU3ZDkzNjBiODhlZTRlMjRiYjAwYzVmMjgwYjQyYTgxKQogICAgICAgIDsKCiAgICAgICAgCiAgICAKICAgIAogICAgICAgICAgICB2YXIgbWFya2VyX2MyMzBjYjRkNTAyMzRkNTI5NjkwNmRmZjk3NGY4ZDNmID0gTC5tYXJrZXIoCiAgICAgICAgICAgICAgICBbNS4yNzczLCAtMy44ODU5XSwKICAgICAgICAgICAgICAgIHt9CiAgICAgICAgICAgICkuYWRkVG8obWFwX2Q5MTQ1YjQwMzc4YzRhNjY4MGExNzNkN2Y4NzkyYzAwKTsKICAgICAgICAKICAgIAogICAgICAgIHZhciBwb3B1cF81YzlmMThiMGI0NGY0NDU3YmVlMTFlMTMwOWUwNDg5NiA9IEwucG9wdXAoeyJtYXhXaWR0aCI6ICIxMDAlIn0pOwoKICAgICAgICAKICAgICAgICAgICAgdmFyIGh0bWxfMzcyODUyZTVkMmUwNGRlY2JjMGI3ZDA3Nzc4MTcwOTkgPSAkKGA8ZGl2IGlkPSJodG1sXzM3Mjg1MmU1ZDJlMDRkZWNiYzBiN2QwNzc3ODE3MDk5IiBzdHlsZT0id2lkdGg6IDEwMC4wJTsgaGVpZ2h0OiAxMDAuMCU7Ij5Qb3J0LUJvdWV0PC9kaXY+YClbMF07CiAgICAgICAgICAgIHBvcHVwXzVjOWYxOGIwYjQ0ZjQ0NTdiZWUxMWUxMzA5ZTA0ODk2LnNldENvbnRlbnQoaHRtbF8zNzI4NTJlNWQyZTA0ZGVjYmMwYjdkMDc3NzgxNzA5OSk7CiAgICAgICAgCgogICAgICAgIG1hcmtlcl9jMjMwY2I0ZDUwMjM0ZDUyOTY5MDZkZmY5NzRmOGQzZi5iaW5kUG9wdXAocG9wdXBfNWM5ZjE4YjBiNDRmNDQ1N2JlZTExZTEzMDllMDQ4OTYpCiAgICAgICAgOwoKICAgICAgICAKICAgIAogICAgCiAgICAgICAgICAgIHZhciBtYXJrZXJfNTgwZWViMWM1OTI1NDZjM2IxMWI3ZDc0ZmIwMzVhOTIgPSBMLm1hcmtlcigKICAgICAgICAgICAgICAgIFs1LjI5MjEsIC00LjAxMzRdLAogICAgICAgICAgICAgICAge30KICAgICAgICAgICAgKS5hZGRUbyhtYXBfZDkxNDViNDAzNzhjNGE2NjgwYTE3M2Q3Zjg3OTJjMDApOwogICAgICAgIAogICAgCiAgICAgICAgdmFyIHBvcHVwX2U1YzQ0ZTI2N2Q5NzRjMmY5MDdkY2YxNjM4MGI3YmQzID0gTC5wb3B1cCh7Im1heFdpZHRoIjogIjEwMCUifSk7CgogICAgICAgIAogICAgICAgICAgICB2YXIgaHRtbF84YmEwYjg4YjcyMWI0ZmJiYTRiMjkxZjRkNGZjOGZhZCA9ICQoYDxkaXYgaWQ9Imh0bWxfOGJhMGI4OGI3MjFiNGZiYmE0YjI5MWY0ZDRmYzhmYWQiIHN0eWxlPSJ3aWR0aDogMTAwLjAlOyBoZWlnaHQ6IDEwMC4wJTsiPlRyZWljaHZpbGxlPC9kaXY+YClbMF07CiAgICAgICAgICAgIHBvcHVwX2U1YzQ0ZTI2N2Q5NzRjMmY5MDdkY2YxNjM4MGI3YmQzLnNldENvbnRlbnQoaHRtbF84YmEwYjg4YjcyMWI0ZmJiYTRiMjkxZjRkNGZjOGZhZCk7CiAgICAgICAgCgogICAgICAgIG1hcmtlcl81ODBlZWIxYzU5MjU0NmMzYjExYjdkNzRmYjAzNWE5Mi5iaW5kUG9wdXAocG9wdXBfZTVjNDRlMjY3ZDk3NGMyZjkwN2RjZjE2MzgwYjdiZDMpCiAgICAgICAgOwoKICAgICAgICAKICAgIAogICAgCiAgICAgICAgICAgIHZhciBtYXJrZXJfYjIzMDAyMWJiYTM4NDJmZGExOTdmMDhhNjFjOTE4NzcgPSBMLm1hcmtlcigKICAgICAgICAgICAgICAgIFs1LjI4MTEsIC00LjA5NTFdLAogICAgICAgICAgICAgICAge30KICAgICAgICAgICAgKS5hZGRUbyhtYXBfZDkxNDViNDAzNzhjNGE2NjgwYTE3M2Q3Zjg3OTJjMDApOwogICAgICAgIAogICAgCiAgICAgICAgdmFyIHBvcHVwX2U4MTE5MjI1MTdiMzRhN2Q5YmE0ZDI4YjdmMzNiNjY4ID0gTC5wb3B1cCh7Im1heFdpZHRoIjogIjEwMCUifSk7CgogICAgICAgIAogICAgICAgICAgICB2YXIgaHRtbF85Mzk2MWM3Yjk0N2M0ODJhOTVmM2E0NDNhMTA3ODJiYiA9ICQoYDxkaXYgaWQ9Imh0bWxfOTM5NjFjN2I5NDdjNDgyYTk1ZjNhNDQzYTEwNzgyYmIiIHN0eWxlPSJ3aWR0aDogMTAwLjAlOyBoZWlnaHQ6IDEwMC4wJTsiPklsZSBCb3VsYXk8L2Rpdj5gKVswXTsKICAgICAgICAgICAgcG9wdXBfZTgxMTkyMjUxN2IzNGE3ZDliYTRkMjhiN2YzM2I2Njguc2V0Q29udGVudChodG1sXzkzOTYxYzdiOTQ3YzQ4MmE5NWYzYTQ0M2ExMDc4MmJiKTsKICAgICAgICAKCiAgICAgICAgbWFya2VyX2IyMzAwMjFiYmEzODQyZmRhMTk3ZjA4YTYxYzkxODc3LmJpbmRQb3B1cChwb3B1cF9lODExOTIyNTE3YjM0YTdkOWJhNGQyOGI3ZjMzYjY2OCkKICAgICAgICA7CgogICAgICAgIAogICAgCjwvc2NyaXB0Pg== onload=\"this.contentDocument.open();this.contentDocument.write(atob(this.getAttribute('data-html')));this.contentDocument.close();\" allowfullscreen webkitallowfullscreen mozallowfullscreen></iframe></div></div>"
      ],
      "text/plain": [
       "<folium.folium.Map at 0x26f9cbd0448>"
      ]
     },
     "execution_count": 5,
     "metadata": {},
     "output_type": "execute_result"
    }
   ],
   "source": [
    "# create map of Abidjan using latitude and longitude values\n",
    "\n",
    "map_abj = folium.Map(location=[latitude_abj, longitude_abj], zoom_start=11)\n",
    "\n",
    "# add markers to map\n",
    "for lat, lng, States in zip(df['Latitudes'],df['Longitudes'], df['States'],):\n",
    "    label = '{}'.format(States)\n",
    "    label = folium.Popup(label, parse_html=True)\n",
    "    folium.CircleMarker(\n",
    "        [lat, lng],\n",
    "        radius=5,\n",
    "        popup=label,\n",
    "        color='blue',\n",
    "        fill=True,\n",
    "        fill_color='#3186cc',\n",
    "        fill_opacity=0.7,\n",
    "        parse_html=False).add_to(map_abj)  \n",
    "    \n",
    "\n",
    "# add pop-up text to each marker on the map\n",
    "for lat, lng, label in zip(df['Latitudes'],df['Longitudes'],df['States'] ):\n",
    "    folium.Marker([lat, lng], popup=label).add_to(map_abj)  \n",
    "    \n",
    "    \n",
    "map_abj"
   ]
  },
  {
   "cell_type": "markdown",
   "metadata": {},
   "source": [
    " # Stamen Toner Map"
   ]
  },
  {
   "cell_type": "markdown",
   "metadata": {},
   "source": [
    "Let's create a Stamen Toner map of Abidjan to explore river meanders and coastal zones. "
   ]
  },
  {
   "cell_type": "code",
   "execution_count": 7,
   "metadata": {},
   "outputs": [
    {
     "data": {
      "text/html": [
       "<div style=\"width:100%;\"><div style=\"position:relative;width:100%;height:0;padding-bottom:60%;\"><span style=\"color:#565656\">Make this Notebook Trusted to load map: File -> Trust Notebook</span><iframe src=\"about:blank\" style=\"position:absolute;width:100%;height:100%;left:0;top:0;border:none !important;\" data-html=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 onload=\"this.contentDocument.open();this.contentDocument.write(atob(this.getAttribute('data-html')));this.contentDocument.close();\" allowfullscreen webkitallowfullscreen mozallowfullscreen></iframe></div></div>"
      ],
      "text/plain": [
       "<folium.folium.Map at 0x26f9cbcaa88>"
      ]
     },
     "execution_count": 7,
     "metadata": {},
     "output_type": "execute_result"
    }
   ],
   "source": [
    "# create a Stamen Toner map of the world centered around Canada\n",
    "Abidjan_map = folium.Map(location=[5.264928299999999, -3.9259475068297522], zoom_start=4, tiles='Stamen Toner')\n",
    "\n",
    "# display map\n",
    "Abidjan_map"
   ]
  },
  {
   "cell_type": "markdown",
   "metadata": {},
   "source": [
    "# Next, let us start utilizing the Foursquare API to explore the neighborhoods and segment them\n",
    "\n",
    "Define Foursquare Credentials and Version."
   ]
  },
  {
   "cell_type": "code",
   "execution_count": 8,
   "metadata": {},
   "outputs": [
    {
     "name": "stdout",
     "output_type": "stream",
     "text": [
      "Your credentials:\n",
      "CLIENT_ID:UIRDM55V35DZKHRKFI1ZPK3NUTFWTAORAA3NPK2SOCV33BVM\n",
      "CLIENT_SECRET:YQPSGYDERAPEYNORG2T4ATRQ4NSY1FCZT01A5SPJ3VWKVFP0\n"
     ]
    }
   ],
   "source": [
    "CLIENT_ID = 'UIRDM55V35DZKHRKFI1ZPK3NUTFWTAORAA3NPK2SOCV33BVM' # your Foursquare ID\n",
    "CLIENT_SECRET = 'YQPSGYDERAPEYNORG2T4ATRQ4NSY1FCZT01A5SPJ3VWKVFP0' # your Foursquare Secret\n",
    "VERSION = '20180604'\n",
    "\n",
    "print('Your credentials:')\n",
    "print('CLIENT_ID:' + CLIENT_ID)\n",
    "print('CLIENT_SECRET:' + CLIENT_SECRET)"
   ]
  },
  {
   "cell_type": "markdown",
   "metadata": {},
   "source": [
    "# Explore all the major venues around in and around the cities within a radius of 6km"
   ]
  },
  {
   "cell_type": "code",
   "execution_count": 9,
   "metadata": {},
   "outputs": [],
   "source": [
    "LIMIT = 500 \n",
    "radius = 6000 # define radius\n",
    "def getNearbyVenues(names, latitudes, longitudes, radius=6000):\n",
    "    \n",
    "    venues_list=[]\n",
    "    for name, lat, lng in zip(names, latitudes, longitudes):\n",
    "        print(name)\n",
    "            \n",
    "        # create the API request URL\n",
    "        url = 'https://api.foursquare.com/v2/venues/explore?&client_id={}&client_secret={}&v={}&ll={},{}&radius={}&limit={}'.format(\n",
    "            CLIENT_ID, \n",
    "            CLIENT_SECRET, \n",
    "            VERSION, \n",
    "            lat, \n",
    "            lng, \n",
    "            radius, \n",
    "            LIMIT)\n",
    "            \n",
    "        # make the GET request\n",
    "        results = requests.get(url).json()[\"response\"]['groups'][0]['items']\n",
    "        \n",
    "        # return only relevant information for each nearby venue\n",
    "        venues_list.append([(\n",
    "            name, \n",
    "            lat, \n",
    "            lng, \n",
    "            v['venue']['name'], \n",
    "            v['venue']['location']['lat'], \n",
    "            v['venue']['location']['lng'],  \n",
    "            v['venue']['categories'][0]['name']) for v in results])\n",
    "\n",
    "    nearby_venues = pd.DataFrame([item for venue_list in venues_list for item in venue_list])\n",
    "    nearby_venues.columns = ['Districts', \n",
    "                  'Districts Latitude', \n",
    "                  'Districts Longitude', \n",
    "                  'Venue', \n",
    "                  'Venue Latitude', \n",
    "                  'Venue Longitude', \n",
    "                  'Venue Category']\n",
    "    \n",
    "    return(nearby_venues)"
   ]
  },
  {
   "cell_type": "code",
   "execution_count": 11,
   "metadata": {},
   "outputs": [
    {
     "name": "stdout",
     "output_type": "stream",
     "text": [
      "Abobo\n",
      "Adjame\n",
      "Yopougon\n",
      "Plateau\n",
      "Attecoube\n",
      "Cocody\n",
      "Koumassi\n",
      "Marcory\n",
      "Port-Bouet\n",
      "Treichville\n",
      "Ile Boulay\n"
     ]
    }
   ],
   "source": [
    "abj_venues = getNearbyVenues(names=df['States'],\n",
    "                                   latitudes=df['Latitudes'],\n",
    "                                   longitudes=df['Longitudes']\n",
    "                                  )"
   ]
  },
  {
   "cell_type": "code",
   "execution_count": 12,
   "metadata": {},
   "outputs": [
    {
     "data": {
      "text/plain": [
       "(414, 7)"
      ]
     },
     "execution_count": 12,
     "metadata": {},
     "output_type": "execute_result"
    }
   ],
   "source": [
    "abj_venues.shape"
   ]
  },
  {
   "cell_type": "code",
   "execution_count": 13,
   "metadata": {},
   "outputs": [
    {
     "data": {
      "text/html": [
       "<div>\n",
       "<style scoped>\n",
       "    .dataframe tbody tr th:only-of-type {\n",
       "        vertical-align: middle;\n",
       "    }\n",
       "\n",
       "    .dataframe tbody tr th {\n",
       "        vertical-align: top;\n",
       "    }\n",
       "\n",
       "    .dataframe thead th {\n",
       "        text-align: right;\n",
       "    }\n",
       "</style>\n",
       "<table border=\"1\" class=\"dataframe\">\n",
       "  <thead>\n",
       "    <tr style=\"text-align: right;\">\n",
       "      <th></th>\n",
       "      <th>Districts</th>\n",
       "      <th>Districts Latitude</th>\n",
       "      <th>Districts Longitude</th>\n",
       "      <th>Venue</th>\n",
       "      <th>Venue Latitude</th>\n",
       "      <th>Venue Longitude</th>\n",
       "      <th>Venue Category</th>\n",
       "    </tr>\n",
       "  </thead>\n",
       "  <tbody>\n",
       "    <tr>\n",
       "      <th>0</th>\n",
       "      <td>Abobo</td>\n",
       "      <td>5.4329</td>\n",
       "      <td>-4.0389</td>\n",
       "      <td>Ebimpe</td>\n",
       "      <td>5.451773</td>\n",
       "      <td>-4.073543</td>\n",
       "      <td>Train Station</td>\n",
       "    </tr>\n",
       "    <tr>\n",
       "      <th>1</th>\n",
       "      <td>Abobo</td>\n",
       "      <td>5.4329</td>\n",
       "      <td>-4.0389</td>\n",
       "      <td>Zoo</td>\n",
       "      <td>5.382706</td>\n",
       "      <td>-4.022097</td>\n",
       "      <td>Zoo</td>\n",
       "    </tr>\n",
       "    <tr>\n",
       "      <th>2</th>\n",
       "      <td>Adjame</td>\n",
       "      <td>5.3651</td>\n",
       "      <td>-4.0236</td>\n",
       "      <td>Norima</td>\n",
       "      <td>5.363668</td>\n",
       "      <td>-3.992067</td>\n",
       "      <td>American Restaurant</td>\n",
       "    </tr>\n",
       "    <tr>\n",
       "      <th>3</th>\n",
       "      <td>Adjame</td>\n",
       "      <td>5.3651</td>\n",
       "      <td>-4.0236</td>\n",
       "      <td>Bao Café</td>\n",
       "      <td>5.348778</td>\n",
       "      <td>-3.996881</td>\n",
       "      <td>Coffee Shop</td>\n",
       "    </tr>\n",
       "    <tr>\n",
       "      <th>4</th>\n",
       "      <td>Adjame</td>\n",
       "      <td>5.3651</td>\n",
       "      <td>-4.0236</td>\n",
       "      <td>le pub</td>\n",
       "      <td>5.375782</td>\n",
       "      <td>-3.998315</td>\n",
       "      <td>Bar</td>\n",
       "    </tr>\n",
       "    <tr>\n",
       "      <th>5</th>\n",
       "      <td>Adjame</td>\n",
       "      <td>5.3651</td>\n",
       "      <td>-4.0236</td>\n",
       "      <td>Des Gateaux &amp; Du Pain</td>\n",
       "      <td>5.360270</td>\n",
       "      <td>-3.989671</td>\n",
       "      <td>Bakery</td>\n",
       "    </tr>\n",
       "    <tr>\n",
       "      <th>6</th>\n",
       "      <td>Adjame</td>\n",
       "      <td>5.3651</td>\n",
       "      <td>-4.0236</td>\n",
       "      <td>Casino Mandarine Danga</td>\n",
       "      <td>5.345053</td>\n",
       "      <td>-4.010700</td>\n",
       "      <td>Supermarket</td>\n",
       "    </tr>\n",
       "    <tr>\n",
       "      <th>7</th>\n",
       "      <td>Adjame</td>\n",
       "      <td>5.3651</td>\n",
       "      <td>-4.0236</td>\n",
       "      <td>Hollywood Boulevard</td>\n",
       "      <td>5.375848</td>\n",
       "      <td>-3.990464</td>\n",
       "      <td>Lounge</td>\n",
       "    </tr>\n",
       "    <tr>\n",
       "      <th>8</th>\n",
       "      <td>Adjame</td>\n",
       "      <td>5.3651</td>\n",
       "      <td>-4.0236</td>\n",
       "      <td>Sofitel Abidjan Hôtel Ivoire</td>\n",
       "      <td>5.327097</td>\n",
       "      <td>-4.004801</td>\n",
       "      <td>Hotel</td>\n",
       "    </tr>\n",
       "    <tr>\n",
       "      <th>9</th>\n",
       "      <td>Adjame</td>\n",
       "      <td>5.3651</td>\n",
       "      <td>-4.0236</td>\n",
       "      <td>Nuit De Saigon</td>\n",
       "      <td>5.371588</td>\n",
       "      <td>-3.990445</td>\n",
       "      <td>Vietnamese Restaurant</td>\n",
       "    </tr>\n",
       "  </tbody>\n",
       "</table>\n",
       "</div>"
      ],
      "text/plain": [
       "  Districts  Districts Latitude  Districts Longitude  \\\n",
       "0     Abobo              5.4329              -4.0389   \n",
       "1     Abobo              5.4329              -4.0389   \n",
       "2    Adjame              5.3651              -4.0236   \n",
       "3    Adjame              5.3651              -4.0236   \n",
       "4    Adjame              5.3651              -4.0236   \n",
       "5    Adjame              5.3651              -4.0236   \n",
       "6    Adjame              5.3651              -4.0236   \n",
       "7    Adjame              5.3651              -4.0236   \n",
       "8    Adjame              5.3651              -4.0236   \n",
       "9    Adjame              5.3651              -4.0236   \n",
       "\n",
       "                          Venue  Venue Latitude  Venue Longitude  \\\n",
       "0                        Ebimpe        5.451773        -4.073543   \n",
       "1                           Zoo        5.382706        -4.022097   \n",
       "2                        Norima        5.363668        -3.992067   \n",
       "3                      Bao Café        5.348778        -3.996881   \n",
       "4                        le pub        5.375782        -3.998315   \n",
       "5         Des Gateaux & Du Pain        5.360270        -3.989671   \n",
       "6        Casino Mandarine Danga        5.345053        -4.010700   \n",
       "7           Hollywood Boulevard        5.375848        -3.990464   \n",
       "8  Sofitel Abidjan Hôtel Ivoire        5.327097        -4.004801   \n",
       "9                Nuit De Saigon        5.371588        -3.990445   \n",
       "\n",
       "          Venue Category  \n",
       "0          Train Station  \n",
       "1                    Zoo  \n",
       "2    American Restaurant  \n",
       "3            Coffee Shop  \n",
       "4                    Bar  \n",
       "5                 Bakery  \n",
       "6            Supermarket  \n",
       "7                 Lounge  \n",
       "8                  Hotel  \n",
       "9  Vietnamese Restaurant  "
      ]
     },
     "execution_count": 13,
     "metadata": {},
     "output_type": "execute_result"
    }
   ],
   "source": [
    "abj_venues.head(10)"
   ]
  },
  {
   "cell_type": "code",
   "execution_count": 18,
   "metadata": {},
   "outputs": [
    {
     "data": {
      "text/plain": [
       "Hotel                   40\n",
       "Shopping Mall           26\n",
       "African Restaurant      26\n",
       "Nightclub               20\n",
       "Fast Food Restaurant    19\n",
       "                        ..\n",
       "Beach                    1\n",
       "Train Station            1\n",
       "Duty-free Shop           1\n",
       "Cafeteria                1\n",
       "Shopping Plaza           1\n",
       "Name: Venue Category, Length: 64, dtype: int64"
      ]
     },
     "execution_count": 18,
     "metadata": {},
     "output_type": "execute_result"
    }
   ],
   "source": [
    "abj_venues['Venue Category'].value_counts()"
   ]
  },
  {
   "cell_type": "code",
   "execution_count": null,
   "metadata": {},
   "outputs": [],
   "source": []
  }
 ],
 "metadata": {
  "kernelspec": {
   "display_name": "Python 3",
   "language": "python",
   "name": "python3"
  },
  "language_info": {
   "codemirror_mode": {
    "name": "ipython",
    "version": 3
   },
   "file_extension": ".py",
   "mimetype": "text/x-python",
   "name": "python",
   "nbconvert_exporter": "python",
   "pygments_lexer": "ipython3",
   "version": "3.7.6"
  }
 },
 "nbformat": 4,
 "nbformat_minor": 4
}
